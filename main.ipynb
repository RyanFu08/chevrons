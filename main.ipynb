{
 "cells": [
  {
   "cell_type": "code",
   "execution_count": 99,
   "metadata": {},
   "outputs": [
    {
     "name": "stdout",
     "output_type": "stream",
     "text": [
      "(100, 100)\n"
     ]
    }
   ],
   "source": [
    "from PIL import Image,ImageDraw\n",
    "import math\n",
    "import random\n",
    "im=Image.open(\"white.png\")\n",
    "draw=ImageDraw.Draw(im)\n",
    "\n",
    "def sin(a):\n",
    "    return math.sin(a)\n",
    "def cos(a):\n",
    "    return math.cos(a)\n",
    "def tan(a):\n",
    "    return math.tan(a)\n",
    "pi=math.pi\n",
    "sq2=math.sqrt(2)\n",
    "print(im.size)"
   ]
  },
  {
   "cell_type": "markdown",
   "metadata": {},
   "source": [
    "### Rectangle Method"
   ]
  },
  {
   "cell_type": "code",
   "execution_count": 100,
   "metadata": {},
   "outputs": [],
   "source": [
    "def rCoords(cx,cy,s,l1,l2,angle):\n",
    "    nose=(0+sq2/2*s,0)\n",
    "    lFinBottom=(0+sq2/2*s-sq2/2*(s+l1),0-sq2/2*(s+l1))\n",
    "    lFinTop=(0+sq2/2*s-sq2/2*(s+l1)-sq2/2*s,0-sq2/2*(s+l1)+sq2/2*s)\n",
    "    spine=(0-sq2/2*s,0)\n",
    "    uFinTop=(0+sq2/2*s-sq2/2*(s+l2),0+sq2/2*(s+l2))\n",
    "    uFinBottom=(0+sq2/2*s-sq2/2*(s+l2)-sq2/2*s,0+sq2/2*(s+l2)-sq2/2*s)\n",
    "    chevron = [nose,lFinBottom,lFinTop,spine,uFinBottom,uFinTop,nose]\n",
    "    roChev=[]\n",
    "    for xy in chevron:\n",
    "        x=xy[0]; y=xy[1]\n",
    "        roChev.append((x*cos(angle)-y*sin(angle)+cx,x*sin(angle)+y*cos(angle)+cy))\n",
    "    return roChev\n",
    "    "
   ]
  },
  {
   "cell_type": "markdown",
   "metadata": {},
   "source": [
    "### Generating Stuff"
   ]
  },
  {
   "cell_type": "code",
   "execution_count": 109,
   "metadata": {},
   "outputs": [],
   "source": [
    "for i in range(10):\n",
    "    cx=random.randrange(25,75)\n",
    "    cy=random.randrange(25,75)\n",
    "    s=random.randrange(10,20)\n",
    "    l1=random.randrange(s,int(s*1.5))\n",
    "    l2=random.randrange(int(l1*0.8),int(l1*1.2))\n",
    "    angle=random.uniform(0,2*pi)\n",
    "    color=random.choice([\"aqua\"])\n",
    "    im=Image.open(\"white.png\")\n",
    "    draw=ImageDraw.Draw(im)\n",
    "    draw.polygon(rCoords(cx,cy,s,l1,l2,angle),\"red\",\"red\")\n",
    "    im.save(\"images/CRAIG\"+str(i)+\".png\", \"PNG\")\n",
    "    im.show()"
   ]
  }
 ],
 "metadata": {
  "interpreter": {
   "hash": "83c064e4b086374fff8b11fa1bc7ec9f017f78269415024369d9f4b27846dda6"
  },
  "kernelspec": {
   "display_name": "Python 3.8.8 ('base')",
   "language": "python",
   "name": "python3"
  },
  "language_info": {
   "codemirror_mode": {
    "name": "ipython",
    "version": 3
   },
   "file_extension": ".py",
   "mimetype": "text/x-python",
   "name": "python",
   "nbconvert_exporter": "python",
   "pygments_lexer": "ipython3",
   "version": "3.8.8"
  },
  "orig_nbformat": 4
 },
 "nbformat": 4,
 "nbformat_minor": 2
}
