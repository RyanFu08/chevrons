{
 "cells": [
  {
   "cell_type": "code",
   "execution_count": 33,
   "metadata": {},
   "outputs": [],
   "source": [
    "from PIL import Image, ImageDraw\n",
    "from shapely.geometry import Point\n",
    "from shapely.geometry.polygon import Polygon\n",
    "import math\n",
    "import random"
   ]
  },
  {
   "cell_type": "code",
   "execution_count": 34,
   "metadata": {},
   "outputs": [],
   "source": [
    "def sin(a):\n",
    "    return math.sin(a)\n",
    "def cos(a):\n",
    "    return math.cos(a)\n",
    "def tan(a):\n",
    "    return math.tan(a)\n",
    "pi=math.pi\n",
    "sqrt2=math.sqrt(2)\n",
    "\n",
    "def deg2rad(t):\n",
    "    return t/180*pi\n",
    "def rad2deg(t):\n",
    "    return t/pi*180\n",
    "\n",
    "def rotatePoint(p,c,t):\n",
    "    '''\n",
    "    rotate a point p=(px,py) about a point c=(cx,cy) by t radians counterclockwise\n",
    "    '''\n",
    "    px=p[0]; py=p[1]; px-=c[0]; py-=c[1]\n",
    "    rx=px*cos(t)-py*sin(t)+c[0]\n",
    "    ry=px*sin(t)+py*cos(t)+c[1]\n",
    "    return (rx,ry)\n",
    "\n",
    "def midpoint(a,b):\n",
    "    return (a[0]/2+b[0]/2,a[1]/2+b[1]/2)"
   ]
  },
  {
   "cell_type": "markdown",
   "metadata": {},
   "source": [
    "### Octagon Stuff"
   ]
  },
  {
   "cell_type": "code",
   "execution_count": 35,
   "metadata": {},
   "outputs": [],
   "source": [
    "def OctPts(c, r, t):\n",
    "    cx=c[0]; cy=c[1];\n",
    "    points=[(cx,cy+r),(cx-r*sqrt2/2,cy+r*sqrt2/2),(cx-r,cy),(cx-r*sqrt2/2,cy-r*sqrt2/2),(cx,cy-r),(cx+r*sqrt2/2,cy-r*sqrt2/2),(cx+r,cy),(cx+r*sqrt2/2,cy+r*sqrt2/2)]\n",
    "    for i in range(8): points[i]=rotatePoint(points[i],c,t)\n",
    "    return points\n",
    "\n",
    "def DrawBoard(c,r1,r2,t,w,draw):\n",
    "    o1=OctPts(c,r1,t); draw.polygon(o1,outline='black',fill='white',width=w)\n",
    "    o2=OctPts(c,r2,t); draw.polygon(o2,outline='black',fill='white',width=w)\n",
    "    for i in range(8): draw.line([o1[i],o2[i]],fill='black',width=w)"
   ]
  },
  {
   "cell_type": "markdown",
   "metadata": {},
   "source": [
    "### Chevron Stuff"
   ]
  },
  {
   "cell_type": "code",
   "execution_count": 36,
   "metadata": {},
   "outputs": [],
   "source": [
    "def ChvPts(c,s,t):\n",
    "    cx=c[0]; cy=c[1];\n",
    "    points=[(cx,cy+s),(cx+s/2,cy+s/2),(cx+s/2,cy-s/2),(cx,cy),(cx-s/2,cy-s/2),(cx-s/2,cy+s/2)]\n",
    "    for i in range(6): points[i]=rotatePoint(points[i],c,t)\n",
    "    return points\n",
    "\n",
    "def DrawChevron(c,s,t,draw,col):\n",
    "    draw.polygon(ChvPts(c,s,t),fill=col)"
   ]
  },
  {
   "cell_type": "markdown",
   "metadata": {},
   "source": [
    "### Generator"
   ]
  },
  {
   "cell_type": "code",
   "execution_count": 37,
   "metadata": {},
   "outputs": [],
   "source": [
    "def GenN(n,draw,mdraw,rigged=75):\n",
    "    '''image assumes 500x500 image, rescale as needed'''\n",
    "    ocx=random.randrange(100,400); ocy=random.randrange(100,400) #octagon center x, octagon center y\n",
    "    ocr=random.randrange(100,300); orr=random.uniform(1.3,3) #octagon radius, octagon radius ratio\n",
    "    ofa=random.uniform(0,2*pi); oow=random.randrange(2,8); #octagon angle, outline width\n",
    "    csz=random.randrange(25,40); #chevron size\n",
    "\n",
    "    DrawBoard((ocx,ocy),ocr,ocr//orr,ofa,oow,draw)\n",
    "    inOcto=Polygon(OctPts((ocx,ocy),ocr//orr,ofa))\n",
    "\n",
    "    cspts=[]; cspolys=[]\n",
    "\n",
    "    for i in range(n):\n",
    "        ccx=random.randrange(ocx-rigged,ocx+rigged); ccy=random.randrange(ocy-rigged,ocy+rigged); #chevron center x,y\n",
    "        cfa=random.uniform(0,2*pi); #chevron angle\n",
    "        DrawChevron((ccx,ccy),csz,cfa,draw,\"red\"); DrawChevron((ccx,ccy),csz,cfa,mdraw,\"white\")\n",
    "        cspts.append(ChvPts((ccx,ccy),csz,cfa)); cspolys.append(Polygon(ChvPts((ccx,ccy),csz,cfa))); \n",
    "\n",
    "    allDistinct=True;\n",
    "    for i in range(n-1):\n",
    "        for j in range(i,n):\n",
    "            for cpt in cspts[i]:\n",
    "                if cspolys[j].contains(Point(cpt[0],cpt[1])):allDistinct=False; break;\n",
    "    return allDistinct\n",
    "\n",
    "def Gen4(i):\n",
    "    ad=False\n",
    "    im=Image.open('bg/bluegradient500x500.jpeg');\n",
    "    mim=Image.open('bg/pureblack500x500.png');\n",
    "    while (ad==False):\n",
    "        im=Image.open('bg/bluegradient500x500.jpeg'); draw=ImageDraw.Draw(im)\n",
    "        mim=Image.open('bg/pureblack500x500.png'); mdraw=ImageDraw.Draw(mim)\n",
    "        ad=GenN(4,draw,mdraw) \n",
    "    id='0'*(5-len(str(i)))+str(i)\n",
    "    im.save('IMG'+id+'.jpeg','JPEG')\n",
    "    mim.save('MSK'+id+'.jpeg','JPEG')"
   ]
  },
  {
   "cell_type": "code",
   "execution_count": 38,
   "metadata": {},
   "outputs": [],
   "source": [
    "Gen4(10)"
   ]
  }
 ],
 "metadata": {
  "interpreter": {
   "hash": "aee8b7b246df8f9039afb4144a1f6fd8d2ca17a180786b69acc140d282b71a49"
  },
  "kernelspec": {
   "display_name": "Python 3.10.0 64-bit",
   "language": "python",
   "name": "python3"
  },
  "language_info": {
   "codemirror_mode": {
    "name": "ipython",
    "version": 3
   },
   "file_extension": ".py",
   "mimetype": "text/x-python",
   "name": "python",
   "nbconvert_exporter": "python",
   "pygments_lexer": "ipython3",
   "version": "3.10.0"
  },
  "orig_nbformat": 4
 },
 "nbformat": 4,
 "nbformat_minor": 2
}
